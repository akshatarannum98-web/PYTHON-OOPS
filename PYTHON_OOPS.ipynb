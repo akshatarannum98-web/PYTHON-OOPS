{
  "nbformat": 4,
  "nbformat_minor": 0,
  "metadata": {
    "colab": {
      "provenance": []
    },
    "kernelspec": {
      "name": "python3",
      "display_name": "Python 3"
    },
    "language_info": {
      "name": "python"
    }
  },
  "cells": [
    {
      "cell_type": "markdown",
      "source": [
        "Python OOPs Questions"
      ],
      "metadata": {
        "id": "5VZELfizD4DT"
      }
    },
    {
      "cell_type": "markdown",
      "source": [
        "1. What is Object-Oriented Programming (OOP)?\n",
        " - Object-Oriented Programming (OOP) is a programming paradigm that organizes software design around objects rather than functions or logic. Example: A Car object may have attributes like color and speed, and methods like drive() and brake().\n",
        "\n",
        "2. What is a class in OOP?\n",
        " - In Object-Oriented Programming (OOP), a class is essentially a blueprint or template for creating objects. It defines what attributes (data) and methods (functions/behavior) the objects of that class will have.\n",
        "\n",
        "3. What is an object in OOP?\n",
        " - In Object-Oriented Programming (OOP), an object is a concrete instance of a class. It represents a real-world entity with specific values for the attributes defined in the class and can use the methods (behaviors) of the class.\n",
        "\n",
        "4. What is the difference between abstraction and encapsulation?\n",
        " - In Object-Oriented Programming (OOP), abstraction and encapsulation are related but distinct concepts. Abstraction is the process of hiding complex implementation details and exposing only the essential features to the user. Encapsulation, on the other hand, is the practice of bundling data (attributes) and methods (behavior) together within a class and restricting direct access to some of the object’s components.\n",
        "\n",
        "5. What are dunder methods in Python?\n",
        " - In Python, dunder methods are special methods that have two leading and two trailing underscores in their names, like __init__, __str__, or __add__. They are also called magic methods or special methods.\n",
        "\n",
        "6. Explain the concept of inheritance in OOP.\n",
        " - In Object-Oriented Programming (OOP), inheritance is a mechanism that allows a class (called a child or subclass) to acquire the properties and behaviors of another class (called a parent or superclass). It promotes code reuse, reduces redundancy, and helps in creating a hierarchical relationship between classes.\n",
        "\n",
        "7. What is polymorphism in OOP?\n",
        " - In Object-Oriented Programming (OOP), polymorphism is the ability of different objects to respond to the same method or operation in different ways. It allows objects of different classes to be treated uniformly, even if they implement behaviors differently.\n",
        "\n",
        "8. How is encapsulation achieved in Python?\n",
        " - In Python, encapsulation is achieved by bundling data (attributes) and methods together within a class and controlling access to the data to protect it from unintended modification.\n",
        "\n",
        "9. What is a constructor in Python?\n",
        " - In Python, a constructor is a special method of a class that is automatically called when a new object (instance) of the class is created. Its main purpose is to initialize the attributes of the object with specific values.\n",
        "\n",
        "10. What are class and static methods in Python?\n",
        " - In Python, class methods and static methods are special types of methods that differ from regular instance methods in how they access data and are called. A class method receives the class itself as the first argument, conventionally named cls, instead of an instance. A static method does not receive self or cls. It behaves like a regular function but belongs to the class’s namespace.\n",
        "\n",
        "11. What is method overloading in Python?\n",
        " - In Python, method overloading refers to the ability to define multiple methods with the same name but different parameters in a class. The idea is that the method behaves differently depending on the number or type of arguments passed.\n",
        "\n",
        "12. What is method overriding in OOP?\n",
        " - In OOP, method overriding occurs when a child (subclass) provides its own implementation of a method that is already defined in its parent (superclass). This allows the child class to modify or extend the behavior of the inherited method.\n",
        "\n",
        "13. What is a property decorator in Python?\n",
        " - In Python, a property decorator is a special decorator that allows us to define methods in a class that can be accessed like attributes. It is commonly used to encapsulate data, providing controlled access to private attributes without explicitly calling getter methods.\n",
        "\n",
        "14. Why is polymorphism important in OOP?\n",
        " - Polymorphism is important in OOP because it allows objects of different classes to be treated uniformly while still exhibiting their own specific behavior.\n",
        "\n",
        "15. What is an abstract class in Python?\n",
        " - In Python, an abstract class is a class that cannot be instantiated directly and is designed to be a blueprint for other classes. It can define abstract methods that must be implemented by its subclasses, enforcing a contract for derived classes. Abstract classes are useful for defining a common interface for a group of related classes.\n",
        "\n",
        "16. What are the advantages of OOP?\n",
        " - Object-Oriented Programming (OOP) offers several advantages that make software development more efficient, modular, and maintainable by organized, reusable, and maintainable code, supports complex software design, and aligns well with real-world problem modeling, making it a preferred paradigm in modern programming.\n",
        "\n",
        "17. What is the difference between a class variable and an instance variable?\n",
        " - 1. Class Variableis a variable that is shared by all instances of a class and it is defined inside the class but outside any methods. Whereas Instance Variable is a variable that is unique to each object (instance) of the class and is defined inside a method (usually __init__) using self.\n",
        "\n",
        "18. What is multiple inheritance in Python?\n",
        " - In Python, multiple inheritance is a feature where a child (subclass) can inherit from more than one parent (superclass). This allows the child class to combine the attributes and methods of multiple parent classes.\n",
        "\n",
        "19. Explain the purpose of ‘’__str__’ and ‘__repr__’ ‘ methods in Python.\n",
        " - In Python, __str__ and __repr__ are dunder (double underscore) methods used to provide string representations of objects, but they serve slightly different purposes. __str__ Method provides a readable, user-friendly string representation of an object and its goal is to give an informal or nicely formatted description of the object.\n",
        " - __repr__ Method provides an official string representation of the object, which can ideally be used to recreate the object goal is to give an unambiguous, developer-oriented representation.\n",
        "\n",
        "20. What is the significance of the ‘super()’ function in Python?\n",
        " - In Python, the super() function is used to call a method from a parent (superclass) in a child (subclass). It is particularly useful in inheritance, allowing a subclass to reuse or extend functionality of the parent class without explicitly referring to its name.\n",
        "  \n",
        "21. What is the significance of the __del__ method in Python?\n",
        " - In Python, the __del__ method is a special dunder (double underscore) method, also called a destructor, which is automatically called when an object is about to be destroyed (i.e., when there are no more references to it). It allows you to perform cleanup actions, such as releasing resources, closing files, or freeing memory.\n",
        "\n",
        "22. What is the difference between @staticmethod and @classmethod in Python?\n",
        " -  In Python, both @staticmethod and @classmethod are decorators used to define methods that don’t operate on instance-level data in the usual way, but they have different purposes and behaviors.\n",
        " - @staticmethod does not take self or cls as the first parameter. It cannot access instance variables or class variables directly and it acts like a regular function that happens to reside inside a class.\n",
        " - Whereas @classmethod takes cls as the first parameter, which refers to the class itself.It can access or modify class variables but not instance variables and is useful for factory methods or operations affecting the class as a whole.\n",
        "\n",
        "23. How does polymorphism work in Python with inheritance?\n",
        " - In Python, polymorphism with inheritance allows a child class to provide its own implementation of a method defined in the parent class, while the same method name can be used to operate on objects of different classes. This enables code to treat objects of different types uniformly, relying on the shared interface defined in the parent class.\n",
        "\n",
        "24. What is method chaining in Python OOP?\n",
        " - In Python OOP, method chaining is a programming technique where multiple methods are called consecutively on the same object in a single statement. Each method in the chain returns the object itself (self), allowing the next method to be called directly. This leads to cleaner, more readable code.\n",
        "\n",
        "25. What is the purpose of the __call__ method in Python?\n",
        " - In Python, the __call__ method is a special dunder method that allows an object to be called like a function. When you define __call__ in a class, you can use instances of that class as if they were functions, which can be useful for creating callable objects, function-like behavior, or implementing custom behavior."
      ],
      "metadata": {
        "id": "LrwrvHxwtAf-"
      }
    },
    {
      "cell_type": "markdown",
      "source": [
        "Practical Questions"
      ],
      "metadata": {
        "id": "3F_nAJcW2R8I"
      }
    },
    {
      "cell_type": "markdown",
      "source": [
        "1.  Create a parent class Animal with a method speak() that prints a generic message. Create a child class Dog\n",
        "that overrides the speak() method to print \"Bark!\"."
      ],
      "metadata": {
        "id": "eQAXGSlz2Yks"
      }
    },
    {
      "cell_type": "code",
      "source": [
        "class Animal:\n",
        "    def speak(self):\n",
        "        print(\"This animal makes a sound\")\n",
        "\n",
        "class Dog(Animal):\n",
        "    def speak(self):\n",
        "        print(\"Bark!\")\n",
        "\n",
        "animal = Animal()\n",
        "animal.speak()\n",
        "Output: This animal makes a sound\n",
        "\n",
        "dog = Dog()\n",
        "dog.speak()\n",
        "Output: Bark!\n"
      ],
      "metadata": {
        "id": "B52SCck62Y_I"
      },
      "execution_count": null,
      "outputs": []
    },
    {
      "cell_type": "markdown",
      "source": [
        "2. Write a program to create an abstract class Shape with a method area(). Derive classes Circle and Rectangle\n",
        "from it and implement the area() method in both."
      ],
      "metadata": {
        "id": "aAWaeTx62ZNp"
      }
    },
    {
      "cell_type": "code",
      "source": [
        "from abc import ABC, abstractmethod\n",
        "import math\n",
        "\n",
        "class Shape(ABC):\n",
        "    @abstractmethod\n",
        "    def area(self):\n",
        "        pass\n",
        "\n",
        "class Circle(Shape):\n",
        "    def __init__(self, radius):\n",
        "        self.radius = radius\n",
        "\n",
        "    def area(self):\n",
        "        return math.pi * self.radius ** 2\n",
        "\n",
        "\n",
        "class Rectangle(Shape):\n",
        "    def __init__(self, length, width):\n",
        "        self.length = length\n",
        "        self.width = width\n",
        "\n",
        "    def area(self):\n",
        "        return self.length * self.width\n",
        "\n",
        "circle = Circle(5)\n",
        "rectangle = Rectangle(4, 6)\n",
        "\n",
        "print(f\"Circle area: {circle.area():.2f}\")\n",
        "print(f\"Rectangle area: {rectangle.area()}\")\n",
        "\n",
        "  Output: Circle area: 78.54\n",
        "  Output: Rectangle area: 24\n"
      ],
      "metadata": {
        "id": "o864mbMA2Zft"
      },
      "execution_count": null,
      "outputs": []
    },
    {
      "cell_type": "markdown",
      "source": [
        "3.  Implement a multi-level inheritance scenario where a class Vehicle has an attribute type. Derive a class Car and further derive a class ElectricCar that adds a battery attribute."
      ],
      "metadata": {
        "id": "l-LqK3kG2Zuf"
      }
    },
    {
      "cell_type": "code",
      "source": [
        "class Vehicle:\n",
        "    def __init__(self, vehicle_type):\n",
        "        self.type = vehicle_type\n",
        "\n",
        "    def show_type(self):\n",
        "        print(f\"Vehicle type: {self.type}\")\n",
        "\n",
        "\n",
        "class Car(Vehicle):\n",
        "    def __init__(self, vehicle_type, brand):\n",
        "        super().__init__(vehicle_type)\n",
        "        self.brand = brand\n",
        "\n",
        "    def show_brand(self):\n",
        "        print(f\"Car brand: {self.brand}\")\n",
        "\n",
        "\n",
        "class ElectricCar(Car):\n",
        "    def __init__(self, vehicle_type, brand, battery_capacity):\n",
        "        super().__init__(vehicle_type, brand)\n",
        "        self.battery = battery_capacity\n",
        "\n",
        "    def show_battery(self):\n",
        "        print(f\"Battery capacity: {self.battery} kWh\")\n",
        "\n",
        "\n",
        "tesla = ElectricCar(\"Car\", \"Tesla\", 100)\n",
        "\n",
        "tesla.show_type()\n",
        "tesla.show_brand()\n",
        "tesla.show_battery()\n",
        "\n",
        "Vehicle type: Car\n",
        "Car brand: Tesla\n",
        "Battery capacity: 100 kWh\n",
        "\n"
      ],
      "metadata": {
        "id": "bGA4C7So2Z8_"
      },
      "execution_count": null,
      "outputs": []
    },
    {
      "cell_type": "markdown",
      "source": [
        "4.  Demonstrate polymorphism by creating a base class Bird with a method fly(). Create two derived classes Sparrow and Penguin that override the fly() method."
      ],
      "metadata": {
        "id": "XBAjSNOv39qL"
      }
    },
    {
      "cell_type": "code",
      "source": [
        "class Bird:\n",
        "    def fly(self):\n",
        "        print(\"Some birds can fly\")\n",
        "\n",
        "\n",
        "class Sparrow(Bird):\n",
        "    def fly(self):\n",
        "        print(\"Sparrow is flying high\")\n",
        "\n",
        "\n",
        "class Penguin(Bird):\n",
        "    def fly(self):\n",
        "        print(\"Penguin cannot fly, it swims instead\")\n",
        "\n",
        "\n",
        "def make_bird_fly(bird):\n",
        "    bird.fly()\n",
        "\n",
        "\n",
        "sparrow = Sparrow()\n",
        "penguin = Penguin()\n",
        "\n",
        "make_bird_fly(sparrow)\n",
        "make_bird_fly(penguin)\n",
        "\n",
        "Output: Sparrow is flying high\n",
        "Output: Penguin cannot fly, it swims instead\n"
      ],
      "metadata": {
        "id": "uBVHo8Rn2df5"
      },
      "execution_count": null,
      "outputs": []
    },
    {
      "cell_type": "markdown",
      "source": [
        "5. Write a program to demonstrate encapsulation by creating a class BankAccount with private attributes balance and methods to deposit, withdraw, and check balance."
      ],
      "metadata": {
        "id": "mtO_khbG2eWB"
      }
    },
    {
      "cell_type": "code",
      "source": [
        "class BankAccount:\n",
        "    def __init__(self, initial_balance):\n",
        "        self.__balance = initial_balance\n",
        "\n",
        "\n",
        "    def deposit(self, amount):\n",
        "        if amount > 0:\n",
        "            self.__balance += amount\n",
        "            print(f\"Deposited: ${amount}\")\n",
        "        else:\n",
        "            print(\"Deposit amount must be positive\")\n",
        "\n",
        "\n",
        "    def withdraw(self, amount):\n",
        "        if amount > self.__balance:\n",
        "            print(\"Insufficient balance\")\n",
        "        elif amount <= 0:\n",
        "            print(\"Withdrawal amount must be positive\")\n",
        "        else:\n",
        "            self.__balance -= amount\n",
        "            print(f\"Withdrawn: ${amount}\")\n",
        "\n",
        "\n",
        "    def get_balance(self):\n",
        "        return self.__balance\n",
        "\n",
        "\n",
        "\n",
        "account = BankAccount(1000)\n",
        "\n",
        "\n",
        "account.deposit(500)\n",
        "account.withdraw(200)\n",
        "print(f\"Current Balance: ${account.get_balance()}\")\n",
        "\n",
        "Output: Deposited: $500\n",
        "Output: Withdrawn: $200\n",
        "Output: Current Balance: $1300\n",
        "\n",
        "\n"
      ],
      "metadata": {
        "id": "TpQBIMm02eqm"
      },
      "execution_count": null,
      "outputs": []
    },
    {
      "cell_type": "markdown",
      "source": [
        "6.  Demonstrate runtime polymorphism using a method play() in a base class Instrument. Derive classes Guitar\n",
        "and Piano that implement their own version of play()."
      ],
      "metadata": {
        "id": "VuBKdsNV2e5T"
      }
    },
    {
      "cell_type": "code",
      "source": [
        "class Instrument:\n",
        "    def play(self):\n",
        "        print(\"Playing an instrument\")\n",
        "\n",
        "\n",
        "class Guitar(Instrument):\n",
        "    def play(self):\n",
        "        print(\"Playing the guitar: Strum strum!\")\n",
        "\n",
        "\n",
        "class Piano(Instrument):\n",
        "    def play(self):\n",
        "        print(\"Playing the piano: Plink plonk!\")\n",
        "\n",
        "\n",
        "def perform(instrument):\n",
        "    instrument.play()\n",
        "\n",
        "\n",
        "guitar = Guitar()\n",
        "piano = Piano()\n",
        "\n",
        "\n",
        "perform(guitar)\n",
        "perform(piano)\n",
        "\n",
        "\n",
        "Output: Playing the guitar: Strum strum!\n",
        "Output: Playing the piano: Plink plonk!\n"
      ],
      "metadata": {
        "id": "s8UYAqE_2fJH"
      },
      "execution_count": null,
      "outputs": []
    },
    {
      "cell_type": "markdown",
      "source": [
        "7. Create a class MathOperations with a class method add_numbers() to add two numbers and a static\n",
        "method subtract_numbers() to subtract two numbers."
      ],
      "metadata": {
        "id": "ilLc2Sln2fY-"
      }
    },
    {
      "cell_type": "code",
      "source": [
        "class MathOperations:\n",
        "    @classmethod\n",
        "    def add_numbers(cls, a, b):\n",
        "        return a + b\n",
        "\n",
        "\n",
        "    @staticmethod\n",
        "    def subtract_numbers(a, b):\n",
        "        return a - b\n",
        "\n",
        "sum_result = MathOperations.add_numbers(10, 5)\n",
        "print(f\"Sum: {sum_result}\")\n",
        "\n",
        "\n",
        "diff_result = MathOperations.subtract_numbers(10, 5)\n",
        "print(f\"Difference: {diff_result}\")\n",
        "\n",
        " Output: Sum: 15\n",
        "Output: Difference: 5\n"
      ],
      "metadata": {
        "id": "mxbsmsr52fo_"
      },
      "execution_count": null,
      "outputs": []
    },
    {
      "cell_type": "markdown",
      "source": [
        "8. Implement a class Person with a class method to count the total number of persons created."
      ],
      "metadata": {
        "id": "9eumlck42f3b"
      }
    },
    {
      "cell_type": "code",
      "source": [
        "class Person:\n",
        "    total_persons = 0\n",
        "\n",
        "    def __init__(self, name):\n",
        "        self.name = name\n",
        "        Person.total_persons += 1\n",
        "\n",
        "    @classmethod\n",
        "    def get_total_persons(cls):\n",
        "        return cls.total_persons\n",
        "\n",
        "\n",
        "p1 = Person(\"Alice\")\n",
        "p2 = Person(\"Bob\")\n",
        "p3 = Person(\"Charlie\")\n",
        "\n",
        "\n",
        "print(f\"Total persons created: {Person.get_total_persons()}\")\n",
        "\n",
        "Output: Total persons created: 3\n"
      ],
      "metadata": {
        "id": "eVg2WGJE2gJK"
      },
      "execution_count": null,
      "outputs": []
    },
    {
      "cell_type": "markdown",
      "source": [
        "9. Write a class Fraction with attributes numerator and denominator. Override the str method to display the\n",
        "fraction as \"numerator/denominator\"."
      ],
      "metadata": {
        "id": "F4QDbfXo2aKE"
      }
    },
    {
      "cell_type": "code",
      "source": [
        "class Fraction:\n",
        "    def __init__(self, numerator, denominator):\n",
        "        self.numerator = numerator\n",
        "        self.denominator = denominator\n",
        "\n",
        "\n",
        "    def __str__(self):\n",
        "        return f\"{self.numerator}/{self.denominator}\"\n",
        "\n",
        "f1 = Fraction(3, 4)\n",
        "f2 = Fraction(5, 8)\n",
        "\n",
        "\n",
        "print(f1)\n",
        "print(f2)\n",
        "\n",
        "Output: 3/4\n",
        "Output: 5/8\n"
      ],
      "metadata": {
        "id": "Zpiud--S2aZx"
      },
      "execution_count": null,
      "outputs": []
    },
    {
      "cell_type": "markdown",
      "source": [
        "10. Demonstrate operator overloading by creating a class Vector and overriding the add method to add two\n",
        "vectors."
      ],
      "metadata": {
        "id": "xSoh0WIj2aoA"
      }
    },
    {
      "cell_type": "code",
      "source": [
        "class Vector:\n",
        "    def __init__(self, x, y):\n",
        "        self.x = x\n",
        "        self.y = y\n",
        "\n",
        "\n",
        "    def __add__(self, other):\n",
        "        return Vector(self.x + other.x, self.y + other.y)\n",
        "\n",
        "\n",
        "    def __str__(self):\n",
        "        return f\"({self.x}, {self.y})\"\n",
        "\n",
        "\n",
        "\n",
        "v1 = Vector(2, 3)\n",
        "v2 = Vector(4, 5)\n",
        "\n",
        "\n",
        "v3 = v1 + v2\n",
        "\n",
        "print(f\"Vector 1: {v1}\")\n",
        "print(f\"Vector 2: {v2}\")\n",
        "print(f\"Sum: {v3}\")\n",
        "\n",
        "Output: Vector 1: (2, 3)\n",
        "Output: Vector 2: (4, 5)\n",
        "Output: Sum: (6, 8)\n"
      ],
      "metadata": {
        "id": "A2VakiEN2a4d"
      },
      "execution_count": null,
      "outputs": []
    },
    {
      "cell_type": "markdown",
      "source": [
        "11. Create a class Person with attributes name and age. Add a method greet() that prints \"Hello, my name is\n",
        "{name} and I am {age} years old.\""
      ],
      "metadata": {
        "id": "ShuSIrjo2bFs"
      }
    },
    {
      "cell_type": "code",
      "source": [
        "class Person:\n",
        "    def __init__(self, name, age):\n",
        "        self.name = name\n",
        "        self.age = age\n",
        "\n",
        "    def greet(self):\n",
        "        print(f\"Hello, my name is {self.name} and I am {self.age} years old.\")\n",
        "\n",
        "person1 = Person(\"Alice\", 25)\n",
        "person2 = Person(\"Bob\", 30)\n",
        "\n",
        "person1.greet()\n",
        "person2.greet()\n",
        "\n",
        "Output: Hello, my name is Alice and I am 25 years old.\n",
        "Output: Hello, my name is Bob and I am 30 years old.\n"
      ],
      "metadata": {
        "id": "8mVfPZRG2bWT"
      },
      "execution_count": null,
      "outputs": []
    },
    {
      "cell_type": "markdown",
      "source": [
        "12. Implement a class Student with attributes name and grades. Create a method average_grade() to compute\n",
        "the average of the grades."
      ],
      "metadata": {
        "id": "TD0yqE-p2bj4"
      }
    },
    {
      "cell_type": "code",
      "source": [
        "class Student:\n",
        "    def __init__(self, name, grades):\n",
        "        self.name = name\n",
        "        self.grades = grades\n",
        "\n",
        "\n",
        "    def average_grade(self):\n",
        "        if not self.grades:\n",
        "            return 0\n",
        "        return sum(self.grades) / len(self.grades)\n",
        "\n",
        "\n",
        "student1 = Student(\"Alice\", [85, 90, 78])\n",
        "student2 = Student(\"Bob\", [92, 88, 79, 95])\n",
        "\n",
        "\n",
        "print(f\"{student1.name}'s average grade: {student1.average_grade():.2f}\")\n",
        "print(f\"{student2.name}'s average grade: {student2.average_grade():.2f}\")\n",
        "\n",
        "Output: Alice's average grade: 84.33\n",
        "Output: Bob's average grade: 88.50\n"
      ],
      "metadata": {
        "id": "ThEVQ9lY2bzY"
      },
      "execution_count": null,
      "outputs": []
    },
    {
      "cell_type": "markdown",
      "source": [
        "13. Create a class Rectangle with methods set_dimensions() to set the dimensions and area() to calculate the\n",
        "area."
      ],
      "metadata": {
        "id": "FnY1o0qTBZ7J"
      }
    },
    {
      "cell_type": "code",
      "source": [
        "class Rectangle:\n",
        "    def __init__(self):\n",
        "        self.length = 0\n",
        "        self.width = 0\n",
        "\n",
        "    def set_dimensions(self, length, width):\n",
        "        self.length = length\n",
        "        self.width = width\n",
        "\n",
        "    def area(self):\n",
        "        return self.length * self.width\n",
        "\n",
        "rect = Rectangle()\n",
        "rect.set_dimensions(5, 3)\n",
        "\n",
        "print(f\"Area of the rectangle: {rect.area()}\")\n",
        "\n",
        " Output: Area of the rectangle: 15\n"
      ],
      "metadata": {
        "id": "J1EcWZgpBbMO"
      },
      "execution_count": null,
      "outputs": []
    },
    {
      "cell_type": "markdown",
      "source": [
        "14. Create a class Employee with a method calculate_salary() that computes the salary based on hours worked\n",
        "and hourly rate. Create a derived class Manager that adds a bonus to the salary"
      ],
      "metadata": {
        "id": "Amy5q3Np2cA3"
      }
    },
    {
      "cell_type": "code",
      "source": [
        "class Employee:\n",
        "    def __init__(self, name, hours_worked, hourly_rate):\n",
        "        self.name = name\n",
        "        self.hours_worked = hours_worked\n",
        "        self.hourly_rate = hourly_rate\n",
        "\n",
        "    def calculate_salary(self):\n",
        "        return self.hours_worked * self.hourly_rate\n",
        "\n",
        "class Manager(Employee):\n",
        "    def __init__(self, name, hours_worked, hourly_rate, bonus):\n",
        "        super().__init__(name, hours_worked, hourly_rate)\n",
        "        self.bonus = bonus\n",
        "\n",
        "    def calculate_salary(self):\n",
        "        base_salary = super().calculate_salary()\n",
        "        return base_salary + self.bonus\n",
        "\n",
        "emp = Employee(\"Alice\", 40, 20)\n",
        "mgr = Manager(\"Bob\", 40, 25, 500)\n",
        "\n",
        "print(f\"{emp.name}'s Salary: ${emp.calculate_salary()}\")\n",
        "print(f\"{mgr.name}'s Salary: ${mgr.calculate_salary()}\")\n",
        "\n",
        " Output: Alice's Salary: $800\n",
        "Output: Bob's Salary: $1500\n"
      ],
      "metadata": {
        "id": "v0ysOaXcBcAm"
      },
      "execution_count": null,
      "outputs": []
    },
    {
      "cell_type": "markdown",
      "source": [
        "15. Create a class Product with attributes name, price, and quantity. Implement a method total_price() that\n",
        "calculates the total price of the product."
      ],
      "metadata": {
        "id": "zoZ1vmzV2cfj"
      }
    },
    {
      "cell_type": "code",
      "source": [
        "class Product:\n",
        "    def __init__(self, name, price, quantity):\n",
        "        self.name = name\n",
        "        self.price = price\n",
        "        self.quantity = quantity\n",
        "\n",
        "\n",
        "    def total_price(self):\n",
        "        return self.price * self.quantity\n",
        "\n",
        "\n",
        "\n",
        "product1 = Product(\"Laptop\", 800, 2)\n",
        "product2 = Product(\"Mouse\", 25, 5)\n",
        "\n",
        "\n",
        "print(f\"Total price of {product1.name}: ${product1.total_price()}\")\n",
        "print(f\"Total price of {product2.name}: ${product2.total_price()}\")\n",
        "\n",
        "Output: $1600\n",
        "Output: $125\n"
      ],
      "metadata": {
        "id": "pHeBxdmIBdjf"
      },
      "execution_count": null,
      "outputs": []
    },
    {
      "cell_type": "markdown",
      "source": [
        "16. Create a class Animal with an abstract method sound(). Create two derived classes Cow and Sheep that\n",
        "implement the sound() method."
      ],
      "metadata": {
        "id": "7x0gBBuSClfq"
      }
    },
    {
      "cell_type": "code",
      "source": [
        "from abc import ABC, abstractmethod\n",
        "\n",
        "class Animal(ABC):\n",
        "    @abstractmethod\n",
        "    def sound(self):\n",
        "        pass\n",
        "\n",
        "class Cow(Animal):\n",
        "    def sound(self):\n",
        "        print(\"Cow says: Moo!\")\n",
        "\n",
        "class Sheep(Animal):\n",
        "    def sound(self):\n",
        "        print(\"Sheep says: Baa!\")\n",
        "\n",
        "cow = Cow()\n",
        "sheep = Sheep()\n",
        "\n",
        "\n",
        "cow.sound()\n",
        "sheep.sound()\n",
        "\n",
        "Output: Cow says: Moo!\n",
        "Output: Sheep says: Baa!\n"
      ],
      "metadata": {
        "id": "STjAMpOZClzj"
      },
      "execution_count": null,
      "outputs": []
    },
    {
      "cell_type": "markdown",
      "source": [
        "17. Create a class Book with attributes title, author, and year_published. Add a method get_book_info() that\n",
        "returns a formatted string with the book's details"
      ],
      "metadata": {
        "id": "cUp9QK9gCmD4"
      }
    },
    {
      "cell_type": "code",
      "source": [
        "class Book:\n",
        "    def __init__(self, title, author, year_published):\n",
        "        self.title = title\n",
        "        self.author = author\n",
        "        self.year_published = year_published\n",
        "\n",
        "    def get_book_info(self):\n",
        "        return f\"'{self.title}' by {self.author}, published in {self.year_published}\"\n",
        "\n",
        "book1 = Book(\"To Kill a Mockingbird\", \"Harper Lee\", 1960)\n",
        "book2 = Book(\"1984\", \"George Orwell\", 1949)\n",
        "\n",
        "print(book1.get_book_info())\n",
        "print(book2.get_book_info())\n",
        "\n",
        "Output: 'To Kill a Mockingbird' by Harper Lee, published in 1960\n",
        "Output: '1984' by George Orwell, published in 1949\n"
      ],
      "metadata": {
        "id": "tvh7DSo-CmRa"
      },
      "execution_count": null,
      "outputs": []
    },
    {
      "cell_type": "markdown",
      "source": [
        "18. Create a class House with attributes address and price. Create a derived class Mansion that adds an\n",
        "attribute number_of_rooms."
      ],
      "metadata": {
        "id": "5cUwsDdNDWfh"
      }
    },
    {
      "cell_type": "code",
      "source": [
        "class House:\n",
        "    def __init__(self, address, price):\n",
        "        self.address = address\n",
        "        self.price = price\n",
        "\n",
        "    def show_info(self):\n",
        "        print(f\"Address: {self.address}, Price: ${self.price}\")\n",
        "\n",
        "\n",
        "class Mansion(House):\n",
        "    def __init__(self, address, price, number_of_rooms):\n",
        "        super().__init__(address, price)\n",
        "        self.number_of_rooms = number_of_rooms\n",
        "\n",
        "    def show_info(self):\n",
        "        print(f\"Address: {self.address}, Price: ${self.price}, Rooms: {self.number_of_rooms}\")\n",
        "\n",
        "\n",
        "house = House(\"123 Main St\", 250000)\n",
        "mansion = Mansion(\"456 Elm St\", 1000000, 10)\n",
        "\n",
        "\n",
        "house.show_info()\n",
        "mansion.show_info()\n",
        "\n",
        "Output: Address: 123 Main St, Price: $250000\n",
        "Output: Address: 456 Elm St, Price: $1000000, Rooms: 10\n"
      ],
      "metadata": {
        "id": "vcZ4-RjfDW6n"
      },
      "execution_count": null,
      "outputs": []
    }
  ]
}